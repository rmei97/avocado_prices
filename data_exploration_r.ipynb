{
 "cells": [
  {
   "cell_type": "code",
   "execution_count": 1,
   "metadata": {},
   "outputs": [],
   "source": [
    "import pandas as pd\n",
    "import numpy as np\n",
    "\n",
    "import matplotlib.pyplot as plt\n",
    "import seaborn as sns\n",
    "%matplotlib inline\n",
    "\n",
    "\n"
   ]
  },
  {
   "cell_type": "code",
   "execution_count": 2,
   "metadata": {},
   "outputs": [],
   "source": [
    "av = pd.read_csv('avocado.csv', index_col=0)"
   ]
  },
  {
   "cell_type": "code",
   "execution_count": 3,
   "metadata": {},
   "outputs": [
    {
     "data": {
      "text/html": [
       "<div>\n",
       "<style scoped>\n",
       "    .dataframe tbody tr th:only-of-type {\n",
       "        vertical-align: middle;\n",
       "    }\n",
       "\n",
       "    .dataframe tbody tr th {\n",
       "        vertical-align: top;\n",
       "    }\n",
       "\n",
       "    .dataframe thead th {\n",
       "        text-align: right;\n",
       "    }\n",
       "</style>\n",
       "<table border=\"1\" class=\"dataframe\">\n",
       "  <thead>\n",
       "    <tr style=\"text-align: right;\">\n",
       "      <th></th>\n",
       "      <th>Date</th>\n",
       "      <th>AveragePrice</th>\n",
       "      <th>Total Volume</th>\n",
       "      <th>4046</th>\n",
       "      <th>4225</th>\n",
       "      <th>4770</th>\n",
       "      <th>Total Bags</th>\n",
       "      <th>Small Bags</th>\n",
       "      <th>Large Bags</th>\n",
       "      <th>XLarge Bags</th>\n",
       "      <th>type</th>\n",
       "      <th>year</th>\n",
       "      <th>region</th>\n",
       "    </tr>\n",
       "  </thead>\n",
       "  <tbody>\n",
       "    <tr>\n",
       "      <th>0</th>\n",
       "      <td>2015-12-27</td>\n",
       "      <td>1.33</td>\n",
       "      <td>64236.62</td>\n",
       "      <td>1036.74</td>\n",
       "      <td>54454.85</td>\n",
       "      <td>48.16</td>\n",
       "      <td>8696.87</td>\n",
       "      <td>8603.62</td>\n",
       "      <td>93.25</td>\n",
       "      <td>0.0</td>\n",
       "      <td>conventional</td>\n",
       "      <td>2015</td>\n",
       "      <td>Albany</td>\n",
       "    </tr>\n",
       "    <tr>\n",
       "      <th>1</th>\n",
       "      <td>2015-12-20</td>\n",
       "      <td>1.35</td>\n",
       "      <td>54876.98</td>\n",
       "      <td>674.28</td>\n",
       "      <td>44638.81</td>\n",
       "      <td>58.33</td>\n",
       "      <td>9505.56</td>\n",
       "      <td>9408.07</td>\n",
       "      <td>97.49</td>\n",
       "      <td>0.0</td>\n",
       "      <td>conventional</td>\n",
       "      <td>2015</td>\n",
       "      <td>Albany</td>\n",
       "    </tr>\n",
       "    <tr>\n",
       "      <th>2</th>\n",
       "      <td>2015-12-13</td>\n",
       "      <td>0.93</td>\n",
       "      <td>118220.22</td>\n",
       "      <td>794.70</td>\n",
       "      <td>109149.67</td>\n",
       "      <td>130.50</td>\n",
       "      <td>8145.35</td>\n",
       "      <td>8042.21</td>\n",
       "      <td>103.14</td>\n",
       "      <td>0.0</td>\n",
       "      <td>conventional</td>\n",
       "      <td>2015</td>\n",
       "      <td>Albany</td>\n",
       "    </tr>\n",
       "    <tr>\n",
       "      <th>3</th>\n",
       "      <td>2015-12-06</td>\n",
       "      <td>1.08</td>\n",
       "      <td>78992.15</td>\n",
       "      <td>1132.00</td>\n",
       "      <td>71976.41</td>\n",
       "      <td>72.58</td>\n",
       "      <td>5811.16</td>\n",
       "      <td>5677.40</td>\n",
       "      <td>133.76</td>\n",
       "      <td>0.0</td>\n",
       "      <td>conventional</td>\n",
       "      <td>2015</td>\n",
       "      <td>Albany</td>\n",
       "    </tr>\n",
       "    <tr>\n",
       "      <th>4</th>\n",
       "      <td>2015-11-29</td>\n",
       "      <td>1.28</td>\n",
       "      <td>51039.60</td>\n",
       "      <td>941.48</td>\n",
       "      <td>43838.39</td>\n",
       "      <td>75.78</td>\n",
       "      <td>6183.95</td>\n",
       "      <td>5986.26</td>\n",
       "      <td>197.69</td>\n",
       "      <td>0.0</td>\n",
       "      <td>conventional</td>\n",
       "      <td>2015</td>\n",
       "      <td>Albany</td>\n",
       "    </tr>\n",
       "  </tbody>\n",
       "</table>\n",
       "</div>"
      ],
      "text/plain": [
       "         Date  AveragePrice  Total Volume     4046       4225    4770  \\\n",
       "0  2015-12-27          1.33      64236.62  1036.74   54454.85   48.16   \n",
       "1  2015-12-20          1.35      54876.98   674.28   44638.81   58.33   \n",
       "2  2015-12-13          0.93     118220.22   794.70  109149.67  130.50   \n",
       "3  2015-12-06          1.08      78992.15  1132.00   71976.41   72.58   \n",
       "4  2015-11-29          1.28      51039.60   941.48   43838.39   75.78   \n",
       "\n",
       "   Total Bags  Small Bags  Large Bags  XLarge Bags          type  year  region  \n",
       "0     8696.87     8603.62       93.25          0.0  conventional  2015  Albany  \n",
       "1     9505.56     9408.07       97.49          0.0  conventional  2015  Albany  \n",
       "2     8145.35     8042.21      103.14          0.0  conventional  2015  Albany  \n",
       "3     5811.16     5677.40      133.76          0.0  conventional  2015  Albany  \n",
       "4     6183.95     5986.26      197.69          0.0  conventional  2015  Albany  "
      ]
     },
     "execution_count": 3,
     "metadata": {},
     "output_type": "execute_result"
    }
   ],
   "source": [
    "av.head()\n",
    "# we need to find average price per day per region, since we have the same day for several cities in the same state\n",
    "# how do we do that???? does it affect stationarity, how do we deal with it?"
   ]
  },
  {
   "cell_type": "code",
   "execution_count": 4,
   "metadata": {},
   "outputs": [],
   "source": [
    "av.rename(columns={'4046':'small', '4225':'medium', '4770':'large'}, inplace=True)"
   ]
  },
  {
   "cell_type": "code",
   "execution_count": 5,
   "metadata": {},
   "outputs": [],
   "source": [
    "av.drop(columns=['Total Bags', 'Small Bags', 'Large Bags', 'XLarge Bags'], inplace=True)"
   ]
  },
  {
   "cell_type": "code",
   "execution_count": 6,
   "metadata": {},
   "outputs": [
    {
     "data": {
      "text/plain": [
       "(18249, 9)"
      ]
     },
     "execution_count": 6,
     "metadata": {},
     "output_type": "execute_result"
    }
   ],
   "source": [
    "av.shape"
   ]
  },
  {
   "cell_type": "code",
   "execution_count": null,
   "metadata": {},
   "outputs": [],
   "source": []
  },
  {
   "cell_type": "markdown",
   "metadata": {},
   "source": [
    "# creating date time object in date column"
   ]
  },
  {
   "cell_type": "code",
   "execution_count": 7,
   "metadata": {},
   "outputs": [],
   "source": [
    "av['Date'] = pd.to_datetime(av['Date'], format='%Y-%m-%d')"
   ]
  },
  {
   "cell_type": "code",
   "execution_count": 8,
   "metadata": {},
   "outputs": [
    {
     "data": {
      "text/html": [
       "<div>\n",
       "<style scoped>\n",
       "    .dataframe tbody tr th:only-of-type {\n",
       "        vertical-align: middle;\n",
       "    }\n",
       "\n",
       "    .dataframe tbody tr th {\n",
       "        vertical-align: top;\n",
       "    }\n",
       "\n",
       "    .dataframe thead th {\n",
       "        text-align: right;\n",
       "    }\n",
       "</style>\n",
       "<table border=\"1\" class=\"dataframe\">\n",
       "  <thead>\n",
       "    <tr style=\"text-align: right;\">\n",
       "      <th></th>\n",
       "      <th>Date</th>\n",
       "      <th>AveragePrice</th>\n",
       "      <th>Total Volume</th>\n",
       "      <th>small</th>\n",
       "      <th>medium</th>\n",
       "      <th>large</th>\n",
       "      <th>type</th>\n",
       "      <th>year</th>\n",
       "      <th>region</th>\n",
       "    </tr>\n",
       "  </thead>\n",
       "  <tbody>\n",
       "    <tr>\n",
       "      <th>0</th>\n",
       "      <td>2015-12-27</td>\n",
       "      <td>1.33</td>\n",
       "      <td>64236.62</td>\n",
       "      <td>1036.74</td>\n",
       "      <td>54454.85</td>\n",
       "      <td>48.16</td>\n",
       "      <td>conventional</td>\n",
       "      <td>2015</td>\n",
       "      <td>Albany</td>\n",
       "    </tr>\n",
       "    <tr>\n",
       "      <th>1</th>\n",
       "      <td>2015-12-20</td>\n",
       "      <td>1.35</td>\n",
       "      <td>54876.98</td>\n",
       "      <td>674.28</td>\n",
       "      <td>44638.81</td>\n",
       "      <td>58.33</td>\n",
       "      <td>conventional</td>\n",
       "      <td>2015</td>\n",
       "      <td>Albany</td>\n",
       "    </tr>\n",
       "    <tr>\n",
       "      <th>2</th>\n",
       "      <td>2015-12-13</td>\n",
       "      <td>0.93</td>\n",
       "      <td>118220.22</td>\n",
       "      <td>794.70</td>\n",
       "      <td>109149.67</td>\n",
       "      <td>130.50</td>\n",
       "      <td>conventional</td>\n",
       "      <td>2015</td>\n",
       "      <td>Albany</td>\n",
       "    </tr>\n",
       "    <tr>\n",
       "      <th>3</th>\n",
       "      <td>2015-12-06</td>\n",
       "      <td>1.08</td>\n",
       "      <td>78992.15</td>\n",
       "      <td>1132.00</td>\n",
       "      <td>71976.41</td>\n",
       "      <td>72.58</td>\n",
       "      <td>conventional</td>\n",
       "      <td>2015</td>\n",
       "      <td>Albany</td>\n",
       "    </tr>\n",
       "    <tr>\n",
       "      <th>4</th>\n",
       "      <td>2015-11-29</td>\n",
       "      <td>1.28</td>\n",
       "      <td>51039.60</td>\n",
       "      <td>941.48</td>\n",
       "      <td>43838.39</td>\n",
       "      <td>75.78</td>\n",
       "      <td>conventional</td>\n",
       "      <td>2015</td>\n",
       "      <td>Albany</td>\n",
       "    </tr>\n",
       "  </tbody>\n",
       "</table>\n",
       "</div>"
      ],
      "text/plain": [
       "        Date  AveragePrice  Total Volume    small     medium   large  \\\n",
       "0 2015-12-27          1.33      64236.62  1036.74   54454.85   48.16   \n",
       "1 2015-12-20          1.35      54876.98   674.28   44638.81   58.33   \n",
       "2 2015-12-13          0.93     118220.22   794.70  109149.67  130.50   \n",
       "3 2015-12-06          1.08      78992.15  1132.00   71976.41   72.58   \n",
       "4 2015-11-29          1.28      51039.60   941.48   43838.39   75.78   \n",
       "\n",
       "           type  year  region  \n",
       "0  conventional  2015  Albany  \n",
       "1  conventional  2015  Albany  \n",
       "2  conventional  2015  Albany  \n",
       "3  conventional  2015  Albany  \n",
       "4  conventional  2015  Albany  "
      ]
     },
     "execution_count": 8,
     "metadata": {},
     "output_type": "execute_result"
    }
   ],
   "source": [
    "av.head()"
   ]
  },
  {
   "cell_type": "code",
   "execution_count": 84,
   "metadata": {},
   "outputs": [],
   "source": [
    "av.set_index('Date',inplace = True)"
   ]
  },
  {
   "cell_type": "code",
   "execution_count": 142,
   "metadata": {},
   "outputs": [
    {
     "data": {
      "text/html": [
       "<div>\n",
       "<style scoped>\n",
       "    .dataframe tbody tr th:only-of-type {\n",
       "        vertical-align: middle;\n",
       "    }\n",
       "\n",
       "    .dataframe tbody tr th {\n",
       "        vertical-align: top;\n",
       "    }\n",
       "\n",
       "    .dataframe thead th {\n",
       "        text-align: right;\n",
       "    }\n",
       "</style>\n",
       "<table border=\"1\" class=\"dataframe\">\n",
       "  <thead>\n",
       "    <tr style=\"text-align: right;\">\n",
       "      <th></th>\n",
       "      <th>AveragePrice</th>\n",
       "      <th>Total Volume</th>\n",
       "      <th>small</th>\n",
       "      <th>medium</th>\n",
       "      <th>large</th>\n",
       "      <th>type</th>\n",
       "      <th>year</th>\n",
       "      <th>region</th>\n",
       "    </tr>\n",
       "    <tr>\n",
       "      <th>Date</th>\n",
       "      <th></th>\n",
       "      <th></th>\n",
       "      <th></th>\n",
       "      <th></th>\n",
       "      <th></th>\n",
       "      <th></th>\n",
       "      <th></th>\n",
       "      <th></th>\n",
       "    </tr>\n",
       "  </thead>\n",
       "  <tbody>\n",
       "    <tr>\n",
       "      <th>2015-12-27</th>\n",
       "      <td>1.33</td>\n",
       "      <td>64236.62</td>\n",
       "      <td>1036.74</td>\n",
       "      <td>54454.85</td>\n",
       "      <td>48.16</td>\n",
       "      <td>conventional</td>\n",
       "      <td>2015</td>\n",
       "      <td>ny</td>\n",
       "    </tr>\n",
       "    <tr>\n",
       "      <th>2015-12-20</th>\n",
       "      <td>1.35</td>\n",
       "      <td>54876.98</td>\n",
       "      <td>674.28</td>\n",
       "      <td>44638.81</td>\n",
       "      <td>58.33</td>\n",
       "      <td>conventional</td>\n",
       "      <td>2015</td>\n",
       "      <td>ny</td>\n",
       "    </tr>\n",
       "    <tr>\n",
       "      <th>2015-12-13</th>\n",
       "      <td>0.93</td>\n",
       "      <td>118220.22</td>\n",
       "      <td>794.70</td>\n",
       "      <td>109149.67</td>\n",
       "      <td>130.50</td>\n",
       "      <td>conventional</td>\n",
       "      <td>2015</td>\n",
       "      <td>ny</td>\n",
       "    </tr>\n",
       "    <tr>\n",
       "      <th>2015-12-06</th>\n",
       "      <td>1.08</td>\n",
       "      <td>78992.15</td>\n",
       "      <td>1132.00</td>\n",
       "      <td>71976.41</td>\n",
       "      <td>72.58</td>\n",
       "      <td>conventional</td>\n",
       "      <td>2015</td>\n",
       "      <td>ny</td>\n",
       "    </tr>\n",
       "    <tr>\n",
       "      <th>2015-11-29</th>\n",
       "      <td>1.28</td>\n",
       "      <td>51039.60</td>\n",
       "      <td>941.48</td>\n",
       "      <td>43838.39</td>\n",
       "      <td>75.78</td>\n",
       "      <td>conventional</td>\n",
       "      <td>2015</td>\n",
       "      <td>ny</td>\n",
       "    </tr>\n",
       "  </tbody>\n",
       "</table>\n",
       "</div>"
      ],
      "text/plain": [
       "            AveragePrice  Total Volume    small     medium   large  \\\n",
       "Date                                                                 \n",
       "2015-12-27          1.33      64236.62  1036.74   54454.85   48.16   \n",
       "2015-12-20          1.35      54876.98   674.28   44638.81   58.33   \n",
       "2015-12-13          0.93     118220.22   794.70  109149.67  130.50   \n",
       "2015-12-06          1.08      78992.15  1132.00   71976.41   72.58   \n",
       "2015-11-29          1.28      51039.60   941.48   43838.39   75.78   \n",
       "\n",
       "                    type  year region  \n",
       "Date                                   \n",
       "2015-12-27  conventional  2015     ny  \n",
       "2015-12-20  conventional  2015     ny  \n",
       "2015-12-13  conventional  2015     ny  \n",
       "2015-12-06  conventional  2015     ny  \n",
       "2015-11-29  conventional  2015     ny  "
      ]
     },
     "execution_count": 142,
     "metadata": {},
     "output_type": "execute_result"
    }
   ],
   "source": [
    "avocado.head()"
   ]
  },
  {
   "cell_type": "code",
   "execution_count": 153,
   "metadata": {},
   "outputs": [
    {
     "data": {
      "text/plain": [
       "<matplotlib.axes._subplots.AxesSubplot at 0x1a31e3ebd0>"
      ]
     },
     "execution_count": 153,
     "metadata": {},
     "output_type": "execute_result"
    },
    {
     "data": {
      "image/png": "[encoded data removed]",
      "text/plain": [
       "<Figure size 1152x1152 with 1 Axes>"
      ]
     },
     "metadata": {
      "needs_background": "light"
     },
     "output_type": "display_data"
    }
   ],
   "source": [
    "graph2 = avocado.groupby('region')['Total Volume'].sum().sort_values(ascending = False)\n",
    "fig,ax = plt.subplots(figsize = (16,16))\n",
    "sns.barplot(graph2.values, graph2.index)"
   ]
  },
  {
   "cell_type": "code",
   "execution_count": 141,
   "metadata": {},
   "outputs": [
    {
     "data": {
      "text/plain": [
       "<Figure size 1152x576 with 0 Axes>"
      ]
     },
     "execution_count": 141,
     "metadata": {},
     "output_type": "execute_result"
    },
    {
     "data": {
      "text/plain": [
       "<Figure size 1152x576 with 0 Axes>"
      ]
     },
     "metadata": {},
     "output_type": "display_data"
    }
   ],
   "source": [
    "plt.figure(figsize = (16,8))\n",
    "sns.barplot()"
   ]
  },
  {
   "cell_type": "markdown",
   "metadata": {},
   "source": [
    "# simple EDA"
   ]
  },
  {
   "cell_type": "code",
   "execution_count": 85,
   "metadata": {},
   "outputs": [],
   "source": [
    "# sns.pairplot(av)"
   ]
  },
  {
   "cell_type": "code",
   "execution_count": 86,
   "metadata": {
    "scrolled": true
   },
   "outputs": [],
   "source": [
    "# # Function to plot each feature vs target variable\n",
    "# def plot_features(df, features):\n",
    "#     pp_rows = [features[i:i+4] for i in range(0, len(features), 4)]\n",
    "#     for row in pp_rows:\n",
    "#         pp = sns.pairplot(data=df, x_vars=row, y_vars='AveragePrice', kind='reg', height=3)\n",
    "#     return plt.show()\n",
    "\n",
    "# features = av.drop(['type', 'year', 'region', 'Date'], axis=1).keys()\n",
    "# plot_features(av, features)"
   ]
  },
  {
   "cell_type": "code",
   "execution_count": null,
   "metadata": {},
   "outputs": [],
   "source": [
    "# av.isnull().sum()"
   ]
  },
  {
   "cell_type": "code",
   "execution_count": null,
   "metadata": {},
   "outputs": [],
   "source": [
    "# av.groupby('region')['AveragePrice'].plot()"
   ]
  },
  {
   "cell_type": "code",
   "execution_count": null,
   "metadata": {},
   "outputs": [],
   "source": []
  },
  {
   "cell_type": "markdown",
   "metadata": {},
   "source": [
    "# removing regions and combining multiple cities into a single state"
   ]
  },
  {
   "cell_type": "code",
   "execution_count": 87,
   "metadata": {},
   "outputs": [
    {
     "data": {
      "text/plain": [
       "array(['Albany', 'Atlanta', 'BaltimoreWashington', 'Boise', 'Boston',\n",
       "       'BuffaloRochester', 'California', 'Charlotte', 'Chicago',\n",
       "       'CincinnatiDayton', 'Columbus', 'DallasFtWorth', 'Denver',\n",
       "       'Detroit', 'GrandRapids', 'GreatLakes', 'HarrisburgScranton',\n",
       "       'HartfordSpringfield', 'Houston', 'Indianapolis', 'Jacksonville',\n",
       "       'LasVegas', 'LosAngeles', 'Louisville', 'MiamiFtLauderdale',\n",
       "       'Midsouth', 'Nashville', 'NewOrleansMobile', 'NewYork',\n",
       "       'Northeast', 'NorthernNewEngland', 'Orlando', 'Philadelphia',\n",
       "       'PhoenixTucson', 'Pittsburgh', 'Plains', 'Portland',\n",
       "       'RaleighGreensboro', 'RichmondNorfolk', 'Roanoke', 'Sacramento',\n",
       "       'SanDiego', 'SanFrancisco', 'Seattle', 'SouthCarolina',\n",
       "       'SouthCentral', 'Southeast', 'Spokane', 'StLouis', 'Syracuse',\n",
       "       'Tampa', 'TotalUS', 'West', 'WestTexNewMexico'], dtype=object)"
      ]
     },
     "execution_count": 87,
     "metadata": {},
     "output_type": "execute_result"
    }
   ],
   "source": [
    "av['region'].unique()"
   ]
  },
  {
   "cell_type": "code",
   "execution_count": 88,
   "metadata": {},
   "outputs": [
    {
     "data": {
      "text/plain": [
       "'aggregate the west ourselves and see if the pre-made aggregated west region correctly represents the data'"
      ]
     },
     "execution_count": 88,
     "metadata": {},
     "output_type": "execute_result"
    }
   ],
   "source": [
    " stat = {'Albany':'ny', 'Atlanta':'ga', 'BaltimoreWashington':'md', 'Boise':'id','Boston':'ma',\n",
    "         'BuffaloRochester':'ny', 'California':'ca', 'Charlotte':'nc', 'Chicago':'il', 'Detroit':'mi',\n",
    "         'GrandRapids':'mi', 'GreatLakes':'greatlakes', 'HarrisburgScranton':'pa', 'HartfordSpringfield': 'ct',\n",
    "         'Houston':'tx', 'Indianapolis':'in', 'Jacksonville':'fl', 'LasVegas':'nv', 'LosAngeles':'ca',\n",
    "         'Louisville':'ky', 'MiamiFtLauderdale':'fl', 'Midsouth':'midsouth', 'Nashville':'tn',\n",
    "         'NewOrleansMobile':'la', 'NewYork':'ny', 'Northeast':'northeast',\n",
    "         'NorthernNewEngland':'northernnewengland', 'Orlando':'fl', 'Philadelphia':'pa', 'PhoenixTucson':'az',\n",
    "         'Pittsburgh':'pa', 'Plains':'plains', 'Portland':'or', 'RaleighGreensboro':'nc', \n",
    "         'RichmondNorfolk':'va', 'Roanoke':'va', 'Sacramento':'ca', 'SanDiego':'ca', 'SanFrancisco':'ca',\n",
    "         'Seattle':'wa', 'SouthCarolina':'sc', 'SouthCentral':'southcentral', 'Southeast':'southeast',\n",
    "         'Spokane':'wa', 'StLouis':'mo', 'Syracuse':'ny', 'Tampa':'fl', 'TotalUS':'USA', 'West':'west', \n",
    "         'WestTexNewMexico':'nm', 'CincinnatiDayton':'oh', 'Columbus':'oh', 'DallasFtWorth':'tx', 'Denver':'co'}\n",
    "\n",
    "# northeast, midsouth, southeast, south central, west, great lakes, northern new england, totalUS\n",
    "\n",
    "\n",
    "'''aggregate the west ourselves and see if the pre-made aggregated west region correctly represents the data'''"
   ]
  },
  {
   "cell_type": "code",
   "execution_count": 89,
   "metadata": {},
   "outputs": [],
   "source": [
    "cities = list(set(['Albany', 'Atlanta', 'BaltimoreWashington', 'Boise', 'Boston',\n",
    "       'BuffaloRochester', 'California', 'Charlotte', 'Chicago',\n",
    "       'CincinnatiDayton', 'Columbus', 'DallasFtWorth', 'Denver',\n",
    "       'Detroit', 'GrandRapids', 'GreatLakes', 'HarrisburgScranton',\n",
    "       'HartfordSpringfield', 'Houston', 'Indianapolis', 'Jacksonville',\n",
    "       'LasVegas', 'LosAngeles', 'Louisville', 'MiamiFtLauderdale',\n",
    "       'Midsouth', 'Nashville', 'NewOrleansMobile', 'NewYork',\n",
    "       'Northeast', 'NorthernNewEngland', 'Orlando', 'Philadelphia',\n",
    "       'PhoenixTucson', 'Pittsburgh', 'Plains', 'Portland',\n",
    "       'RaleighGreensboro', 'RichmondNorfolk', 'Roanoke', 'Sacramento',\n",
    "       'SanDiego', 'SanFrancisco', 'Seattle', 'SouthCarolina',\n",
    "       'SouthCentral', 'Southeast', 'Spokane', 'StLouis', 'Syracuse',\n",
    "       'Tampa', 'TotalUS', 'West', 'WestTexNewMexico']) - set(['Northeast', 'Midsouth', 'Southeast', 'SouthCentral', 'West', 'GreatLakes', 'TotalUS', 'NorthernNewEngland', 'Plains']))\n"
   ]
  },
  {
   "cell_type": "code",
   "execution_count": 90,
   "metadata": {
    "scrolled": true
   },
   "outputs": [
    {
     "data": {
      "text/plain": [
       "['RaleighGreensboro',\n",
       " 'SouthCarolina',\n",
       " 'Roanoke',\n",
       " 'Atlanta',\n",
       " 'MiamiFtLauderdale',\n",
       " 'Charlotte',\n",
       " 'BaltimoreWashington',\n",
       " 'Nashville',\n",
       " 'Orlando',\n",
       " 'RichmondNorfolk',\n",
       " 'Jacksonville',\n",
       " 'LosAngeles',\n",
       " 'Chicago',\n",
       " 'Albany',\n",
       " 'Pittsburgh',\n",
       " 'Detroit',\n",
       " 'PhoenixTucson',\n",
       " 'BuffaloRochester',\n",
       " 'Houston',\n",
       " 'Philadelphia',\n",
       " 'Spokane',\n",
       " 'WestTexNewMexico',\n",
       " 'Denver',\n",
       " 'Sacramento',\n",
       " 'Syracuse',\n",
       " 'DallasFtWorth',\n",
       " 'Seattle',\n",
       " 'Boston',\n",
       " 'Boise',\n",
       " 'Indianapolis',\n",
       " 'HarrisburgScranton',\n",
       " 'HartfordSpringfield',\n",
       " 'LasVegas',\n",
       " 'CincinnatiDayton',\n",
       " 'SanDiego',\n",
       " 'NewYork',\n",
       " 'SanFrancisco',\n",
       " 'NewOrleansMobile',\n",
       " 'Columbus',\n",
       " 'GrandRapids',\n",
       " 'Louisville',\n",
       " 'California',\n",
       " 'Portland',\n",
       " 'StLouis',\n",
       " 'Tampa']"
      ]
     },
     "execution_count": 90,
     "metadata": {},
     "output_type": "execute_result"
    }
   ],
   "source": [
    "cities"
   ]
  },
  {
   "cell_type": "code",
   "execution_count": 91,
   "metadata": {
    "scrolled": false
   },
   "outputs": [],
   "source": [
    "avocado = av[av['region'].isin(cities)].copy()"
   ]
  },
  {
   "cell_type": "code",
   "execution_count": 92,
   "metadata": {},
   "outputs": [
    {
     "data": {
      "text/plain": [
       "(15207, 8)"
      ]
     },
     "execution_count": 92,
     "metadata": {},
     "output_type": "execute_result"
    }
   ],
   "source": [
    "avocado.shape"
   ]
  },
  {
   "cell_type": "code",
   "execution_count": 93,
   "metadata": {},
   "outputs": [],
   "source": [
    "avocado.replace({'region':stat}, inplace=True)"
   ]
  },
  {
   "cell_type": "code",
   "execution_count": 94,
   "metadata": {
    "scrolled": true
   },
   "outputs": [
    {
     "data": {
      "text/html": [
       "<div>\n",
       "<style scoped>\n",
       "    .dataframe tbody tr th:only-of-type {\n",
       "        vertical-align: middle;\n",
       "    }\n",
       "\n",
       "    .dataframe tbody tr th {\n",
       "        vertical-align: top;\n",
       "    }\n",
       "\n",
       "    .dataframe thead th {\n",
       "        text-align: right;\n",
       "    }\n",
       "</style>\n",
       "<table border=\"1\" class=\"dataframe\">\n",
       "  <thead>\n",
       "    <tr style=\"text-align: right;\">\n",
       "      <th></th>\n",
       "      <th>count</th>\n",
       "      <th>mean</th>\n",
       "      <th>std</th>\n",
       "      <th>min</th>\n",
       "      <th>25%</th>\n",
       "      <th>50%</th>\n",
       "      <th>75%</th>\n",
       "      <th>max</th>\n",
       "    </tr>\n",
       "    <tr>\n",
       "      <th>region</th>\n",
       "      <th></th>\n",
       "      <th></th>\n",
       "      <th></th>\n",
       "      <th></th>\n",
       "      <th></th>\n",
       "      <th></th>\n",
       "      <th></th>\n",
       "      <th></th>\n",
       "    </tr>\n",
       "  </thead>\n",
       "  <tbody>\n",
       "    <tr>\n",
       "      <th>az</th>\n",
       "      <td>338.0</td>\n",
       "      <td>1.224438</td>\n",
       "      <td>0.548283</td>\n",
       "      <td>0.46</td>\n",
       "      <td>0.6800</td>\n",
       "      <td>1.225</td>\n",
       "      <td>1.7200</td>\n",
       "      <td>2.62</td>\n",
       "    </tr>\n",
       "    <tr>\n",
       "      <th>ca</th>\n",
       "      <td>1690.0</td>\n",
       "      <td>1.487053</td>\n",
       "      <td>0.495607</td>\n",
       "      <td>0.53</td>\n",
       "      <td>1.1000</td>\n",
       "      <td>1.400</td>\n",
       "      <td>1.8075</td>\n",
       "      <td>3.25</td>\n",
       "    </tr>\n",
       "    <tr>\n",
       "      <th>co</th>\n",
       "      <td>338.0</td>\n",
       "      <td>1.218580</td>\n",
       "      <td>0.317915</td>\n",
       "      <td>0.60</td>\n",
       "      <td>0.9900</td>\n",
       "      <td>1.165</td>\n",
       "      <td>1.4300</td>\n",
       "      <td>2.16</td>\n",
       "    </tr>\n",
       "    <tr>\n",
       "      <th>ct</th>\n",
       "      <td>338.0</td>\n",
       "      <td>1.818639</td>\n",
       "      <td>0.468989</td>\n",
       "      <td>0.86</td>\n",
       "      <td>1.3900</td>\n",
       "      <td>1.800</td>\n",
       "      <td>2.2700</td>\n",
       "      <td>2.68</td>\n",
       "    </tr>\n",
       "    <tr>\n",
       "      <th>fl</th>\n",
       "      <td>1352.0</td>\n",
       "      <td>1.463624</td>\n",
       "      <td>0.376066</td>\n",
       "      <td>0.54</td>\n",
       "      <td>1.2075</td>\n",
       "      <td>1.440</td>\n",
       "      <td>1.7300</td>\n",
       "      <td>3.17</td>\n",
       "    </tr>\n",
       "    <tr>\n",
       "      <th>ga</th>\n",
       "      <td>338.0</td>\n",
       "      <td>1.337959</td>\n",
       "      <td>0.398297</td>\n",
       "      <td>0.62</td>\n",
       "      <td>1.0400</td>\n",
       "      <td>1.230</td>\n",
       "      <td>1.6200</td>\n",
       "      <td>2.75</td>\n",
       "    </tr>\n",
       "    <tr>\n",
       "      <th>id</th>\n",
       "      <td>338.0</td>\n",
       "      <td>1.348136</td>\n",
       "      <td>0.457911</td>\n",
       "      <td>0.58</td>\n",
       "      <td>1.0300</td>\n",
       "      <td>1.220</td>\n",
       "      <td>1.6375</td>\n",
       "      <td>2.79</td>\n",
       "    </tr>\n",
       "    <tr>\n",
       "      <th>il</th>\n",
       "      <td>338.0</td>\n",
       "      <td>1.556775</td>\n",
       "      <td>0.335439</td>\n",
       "      <td>0.70</td>\n",
       "      <td>1.2400</td>\n",
       "      <td>1.610</td>\n",
       "      <td>1.8000</td>\n",
       "      <td>2.30</td>\n",
       "    </tr>\n",
       "    <tr>\n",
       "      <th>in</th>\n",
       "      <td>338.0</td>\n",
       "      <td>1.313994</td>\n",
       "      <td>0.282894</td>\n",
       "      <td>0.77</td>\n",
       "      <td>1.0800</td>\n",
       "      <td>1.290</td>\n",
       "      <td>1.5275</td>\n",
       "      <td>2.10</td>\n",
       "    </tr>\n",
       "    <tr>\n",
       "      <th>ky</th>\n",
       "      <td>338.0</td>\n",
       "      <td>1.286686</td>\n",
       "      <td>0.318991</td>\n",
       "      <td>0.56</td>\n",
       "      <td>1.0400</td>\n",
       "      <td>1.230</td>\n",
       "      <td>1.5375</td>\n",
       "      <td>2.29</td>\n",
       "    </tr>\n",
       "    <tr>\n",
       "      <th>la</th>\n",
       "      <td>338.0</td>\n",
       "      <td>1.304793</td>\n",
       "      <td>0.300137</td>\n",
       "      <td>0.58</td>\n",
       "      <td>1.0300</td>\n",
       "      <td>1.340</td>\n",
       "      <td>1.5275</td>\n",
       "      <td>2.32</td>\n",
       "    </tr>\n",
       "    <tr>\n",
       "      <th>ma</th>\n",
       "      <td>338.0</td>\n",
       "      <td>1.530888</td>\n",
       "      <td>0.328074</td>\n",
       "      <td>0.85</td>\n",
       "      <td>1.2600</td>\n",
       "      <td>1.555</td>\n",
       "      <td>1.8175</td>\n",
       "      <td>2.19</td>\n",
       "    </tr>\n",
       "    <tr>\n",
       "      <th>md</th>\n",
       "      <td>338.0</td>\n",
       "      <td>1.534231</td>\n",
       "      <td>0.299428</td>\n",
       "      <td>0.95</td>\n",
       "      <td>1.2600</td>\n",
       "      <td>1.550</td>\n",
       "      <td>1.7000</td>\n",
       "      <td>2.28</td>\n",
       "    </tr>\n",
       "    <tr>\n",
       "      <th>mi</th>\n",
       "      <td>676.0</td>\n",
       "      <td>1.390547</td>\n",
       "      <td>0.363074</td>\n",
       "      <td>0.48</td>\n",
       "      <td>1.0900</td>\n",
       "      <td>1.340</td>\n",
       "      <td>1.6600</td>\n",
       "      <td>2.73</td>\n",
       "    </tr>\n",
       "    <tr>\n",
       "      <th>mo</th>\n",
       "      <td>338.0</td>\n",
       "      <td>1.430621</td>\n",
       "      <td>0.418003</td>\n",
       "      <td>0.58</td>\n",
       "      <td>1.1300</td>\n",
       "      <td>1.320</td>\n",
       "      <td>1.7600</td>\n",
       "      <td>2.84</td>\n",
       "    </tr>\n",
       "    <tr>\n",
       "      <th>nc</th>\n",
       "      <td>676.0</td>\n",
       "      <td>1.580577</td>\n",
       "      <td>0.421407</td>\n",
       "      <td>0.80</td>\n",
       "      <td>1.2300</td>\n",
       "      <td>1.540</td>\n",
       "      <td>1.8600</td>\n",
       "      <td>3.04</td>\n",
       "    </tr>\n",
       "    <tr>\n",
       "      <th>nm</th>\n",
       "      <td>335.0</td>\n",
       "      <td>1.261701</td>\n",
       "      <td>0.497107</td>\n",
       "      <td>0.52</td>\n",
       "      <td>0.8150</td>\n",
       "      <td>1.140</td>\n",
       "      <td>1.6550</td>\n",
       "      <td>2.93</td>\n",
       "    </tr>\n",
       "    <tr>\n",
       "      <th>nv</th>\n",
       "      <td>338.0</td>\n",
       "      <td>1.380917</td>\n",
       "      <td>0.473968</td>\n",
       "      <td>0.54</td>\n",
       "      <td>1.0000</td>\n",
       "      <td>1.265</td>\n",
       "      <td>1.7275</td>\n",
       "      <td>3.03</td>\n",
       "    </tr>\n",
       "    <tr>\n",
       "      <th>ny</th>\n",
       "      <td>1352.0</td>\n",
       "      <td>1.581442</td>\n",
       "      <td>0.319760</td>\n",
       "      <td>0.77</td>\n",
       "      <td>1.3500</td>\n",
       "      <td>1.540</td>\n",
       "      <td>1.8100</td>\n",
       "      <td>2.65</td>\n",
       "    </tr>\n",
       "    <tr>\n",
       "      <th>oh</th>\n",
       "      <td>676.0</td>\n",
       "      <td>1.230991</td>\n",
       "      <td>0.334548</td>\n",
       "      <td>0.44</td>\n",
       "      <td>0.9900</td>\n",
       "      <td>1.140</td>\n",
       "      <td>1.4800</td>\n",
       "      <td>2.22</td>\n",
       "    </tr>\n",
       "    <tr>\n",
       "      <th>or</th>\n",
       "      <td>338.0</td>\n",
       "      <td>1.317722</td>\n",
       "      <td>0.464029</td>\n",
       "      <td>0.68</td>\n",
       "      <td>0.9800</td>\n",
       "      <td>1.210</td>\n",
       "      <td>1.5700</td>\n",
       "      <td>2.86</td>\n",
       "    </tr>\n",
       "    <tr>\n",
       "      <th>pa</th>\n",
       "      <td>1014.0</td>\n",
       "      <td>1.503245</td>\n",
       "      <td>0.300117</td>\n",
       "      <td>0.87</td>\n",
       "      <td>1.2700</td>\n",
       "      <td>1.460</td>\n",
       "      <td>1.7000</td>\n",
       "      <td>2.45</td>\n",
       "    </tr>\n",
       "    <tr>\n",
       "      <th>sc</th>\n",
       "      <td>338.0</td>\n",
       "      <td>1.403284</td>\n",
       "      <td>0.330502</td>\n",
       "      <td>0.69</td>\n",
       "      <td>1.1100</td>\n",
       "      <td>1.380</td>\n",
       "      <td>1.6700</td>\n",
       "      <td>2.21</td>\n",
       "    </tr>\n",
       "    <tr>\n",
       "      <th>tn</th>\n",
       "      <td>338.0</td>\n",
       "      <td>1.212101</td>\n",
       "      <td>0.332029</td>\n",
       "      <td>0.51</td>\n",
       "      <td>0.9600</td>\n",
       "      <td>1.105</td>\n",
       "      <td>1.4875</td>\n",
       "      <td>2.24</td>\n",
       "    </tr>\n",
       "    <tr>\n",
       "      <th>tx</th>\n",
       "      <td>676.0</td>\n",
       "      <td>1.066760</td>\n",
       "      <td>0.299338</td>\n",
       "      <td>0.51</td>\n",
       "      <td>0.8100</td>\n",
       "      <td>1.000</td>\n",
       "      <td>1.3100</td>\n",
       "      <td>1.92</td>\n",
       "    </tr>\n",
       "    <tr>\n",
       "      <th>va</th>\n",
       "      <td>676.0</td>\n",
       "      <td>1.269630</td>\n",
       "      <td>0.269626</td>\n",
       "      <td>0.70</td>\n",
       "      <td>1.0400</td>\n",
       "      <td>1.200</td>\n",
       "      <td>1.4725</td>\n",
       "      <td>2.27</td>\n",
       "    </tr>\n",
       "    <tr>\n",
       "      <th>wa</th>\n",
       "      <td>676.0</td>\n",
       "      <td>1.444083</td>\n",
       "      <td>0.479068</td>\n",
       "      <td>0.70</td>\n",
       "      <td>1.0900</td>\n",
       "      <td>1.325</td>\n",
       "      <td>1.7100</td>\n",
       "      <td>2.96</td>\n",
       "    </tr>\n",
       "  </tbody>\n",
       "</table>\n",
       "</div>"
      ],
      "text/plain": [
       "         count      mean       std   min     25%    50%     75%   max\n",
       "region                                                               \n",
       "az       338.0  1.224438  0.548283  0.46  0.6800  1.225  1.7200  2.62\n",
       "ca      1690.0  1.487053  0.495607  0.53  1.1000  1.400  1.8075  3.25\n",
       "co       338.0  1.218580  0.317915  0.60  0.9900  1.165  1.4300  2.16\n",
       "ct       338.0  1.818639  0.468989  0.86  1.3900  1.800  2.2700  2.68\n",
       "fl      1352.0  1.463624  0.376066  0.54  1.2075  1.440  1.7300  3.17\n",
       "ga       338.0  1.337959  0.398297  0.62  1.0400  1.230  1.6200  2.75\n",
       "id       338.0  1.348136  0.457911  0.58  1.0300  1.220  1.6375  2.79\n",
       "il       338.0  1.556775  0.335439  0.70  1.2400  1.610  1.8000  2.30\n",
       "in       338.0  1.313994  0.282894  0.77  1.0800  1.290  1.5275  2.10\n",
       "ky       338.0  1.286686  0.318991  0.56  1.0400  1.230  1.5375  2.29\n",
       "la       338.0  1.304793  0.300137  0.58  1.0300  1.340  1.5275  2.32\n",
       "ma       338.0  1.530888  0.328074  0.85  1.2600  1.555  1.8175  2.19\n",
       "md       338.0  1.534231  0.299428  0.95  1.2600  1.550  1.7000  2.28\n",
       "mi       676.0  1.390547  0.363074  0.48  1.0900  1.340  1.6600  2.73\n",
       "mo       338.0  1.430621  0.418003  0.58  1.1300  1.320  1.7600  2.84\n",
       "nc       676.0  1.580577  0.421407  0.80  1.2300  1.540  1.8600  3.04\n",
       "nm       335.0  1.261701  0.497107  0.52  0.8150  1.140  1.6550  2.93\n",
       "nv       338.0  1.380917  0.473968  0.54  1.0000  1.265  1.7275  3.03\n",
       "ny      1352.0  1.581442  0.319760  0.77  1.3500  1.540  1.8100  2.65\n",
       "oh       676.0  1.230991  0.334548  0.44  0.9900  1.140  1.4800  2.22\n",
       "or       338.0  1.317722  0.464029  0.68  0.9800  1.210  1.5700  2.86\n",
       "pa      1014.0  1.503245  0.300117  0.87  1.2700  1.460  1.7000  2.45\n",
       "sc       338.0  1.403284  0.330502  0.69  1.1100  1.380  1.6700  2.21\n",
       "tn       338.0  1.212101  0.332029  0.51  0.9600  1.105  1.4875  2.24\n",
       "tx       676.0  1.066760  0.299338  0.51  0.8100  1.000  1.3100  1.92\n",
       "va       676.0  1.269630  0.269626  0.70  1.0400  1.200  1.4725  2.27\n",
       "wa       676.0  1.444083  0.479068  0.70  1.0900  1.325  1.7100  2.96"
      ]
     },
     "execution_count": 94,
     "metadata": {},
     "output_type": "execute_result"
    }
   ],
   "source": [
    "avocado.groupby('region')['AveragePrice'].describe()"
   ]
  },
  {
   "cell_type": "code",
   "execution_count": 95,
   "metadata": {
    "scrolled": true
   },
   "outputs": [
    {
     "data": {
      "text/html": [
       "<div>\n",
       "<style scoped>\n",
       "    .dataframe tbody tr th:only-of-type {\n",
       "        vertical-align: middle;\n",
       "    }\n",
       "\n",
       "    .dataframe tbody tr th {\n",
       "        vertical-align: top;\n",
       "    }\n",
       "\n",
       "    .dataframe thead th {\n",
       "        text-align: right;\n",
       "    }\n",
       "</style>\n",
       "<table border=\"1\" class=\"dataframe\">\n",
       "  <thead>\n",
       "    <tr style=\"text-align: right;\">\n",
       "      <th></th>\n",
       "      <th>count</th>\n",
       "      <th>mean</th>\n",
       "      <th>std</th>\n",
       "      <th>min</th>\n",
       "      <th>25%</th>\n",
       "      <th>50%</th>\n",
       "      <th>75%</th>\n",
       "      <th>max</th>\n",
       "    </tr>\n",
       "    <tr>\n",
       "      <th>region</th>\n",
       "      <th></th>\n",
       "      <th></th>\n",
       "      <th></th>\n",
       "      <th></th>\n",
       "      <th></th>\n",
       "      <th></th>\n",
       "      <th></th>\n",
       "      <th></th>\n",
       "    </tr>\n",
       "  </thead>\n",
       "  <tbody>\n",
       "    <tr>\n",
       "      <th>az</th>\n",
       "      <td>338.0</td>\n",
       "      <td>5.788264e+05</td>\n",
       "      <td>5.974847e+05</td>\n",
       "      <td>4881.79</td>\n",
       "      <td>11449.3575</td>\n",
       "      <td>339075.580</td>\n",
       "      <td>1.138581e+06</td>\n",
       "      <td>2200550.27</td>\n",
       "    </tr>\n",
       "    <tr>\n",
       "      <th>ca</th>\n",
       "      <td>1690.0</td>\n",
       "      <td>1.087375e+06</td>\n",
       "      <td>1.867886e+06</td>\n",
       "      <td>3562.52</td>\n",
       "      <td>22347.4175</td>\n",
       "      <td>251731.110</td>\n",
       "      <td>7.659474e+05</td>\n",
       "      <td>11213596.29</td>\n",
       "    </tr>\n",
       "    <tr>\n",
       "      <th>co</th>\n",
       "      <td>338.0</td>\n",
       "      <td>4.109542e+05</td>\n",
       "      <td>3.940824e+05</td>\n",
       "      <td>6554.93</td>\n",
       "      <td>27517.2050</td>\n",
       "      <td>329377.845</td>\n",
       "      <td>7.663101e+05</td>\n",
       "      <td>1381528.74</td>\n",
       "    </tr>\n",
       "    <tr>\n",
       "      <th>ct</th>\n",
       "      <td>338.0</td>\n",
       "      <td>1.499128e+05</td>\n",
       "      <td>1.474348e+05</td>\n",
       "      <td>1494.63</td>\n",
       "      <td>8060.3800</td>\n",
       "      <td>111484.915</td>\n",
       "      <td>2.811244e+05</td>\n",
       "      <td>522565.33</td>\n",
       "    </tr>\n",
       "    <tr>\n",
       "      <th>fl</th>\n",
       "      <td>1352.0</td>\n",
       "      <td>1.857459e+05</td>\n",
       "      <td>2.258621e+05</td>\n",
       "      <td>84.56</td>\n",
       "      <td>3721.9050</td>\n",
       "      <td>53105.295</td>\n",
       "      <td>3.355664e+05</td>\n",
       "      <td>1310671.51</td>\n",
       "    </tr>\n",
       "    <tr>\n",
       "      <th>ga</th>\n",
       "      <td>338.0</td>\n",
       "      <td>2.621453e+05</td>\n",
       "      <td>2.631071e+05</td>\n",
       "      <td>3047.38</td>\n",
       "      <td>10989.8975</td>\n",
       "      <td>182673.440</td>\n",
       "      <td>4.907090e+05</td>\n",
       "      <td>957792.07</td>\n",
       "    </tr>\n",
       "    <tr>\n",
       "      <th>id</th>\n",
       "      <td>338.0</td>\n",
       "      <td>4.264257e+04</td>\n",
       "      <td>4.247940e+04</td>\n",
       "      <td>562.64</td>\n",
       "      <td>2212.7675</td>\n",
       "      <td>28988.585</td>\n",
       "      <td>8.132399e+04</td>\n",
       "      <td>136377.55</td>\n",
       "    </tr>\n",
       "    <tr>\n",
       "      <th>il</th>\n",
       "      <td>338.0</td>\n",
       "      <td>3.955690e+05</td>\n",
       "      <td>3.846002e+05</td>\n",
       "      <td>9910.84</td>\n",
       "      <td>29956.2450</td>\n",
       "      <td>231780.020</td>\n",
       "      <td>7.639302e+05</td>\n",
       "      <td>1802646.35</td>\n",
       "    </tr>\n",
       "    <tr>\n",
       "      <th>in</th>\n",
       "      <td>338.0</td>\n",
       "      <td>8.953666e+04</td>\n",
       "      <td>8.911021e+04</td>\n",
       "      <td>964.25</td>\n",
       "      <td>3746.8175</td>\n",
       "      <td>60553.145</td>\n",
       "      <td>1.680288e+05</td>\n",
       "      <td>335442.41</td>\n",
       "    </tr>\n",
       "    <tr>\n",
       "      <th>ky</th>\n",
       "      <td>338.0</td>\n",
       "      <td>4.762427e+04</td>\n",
       "      <td>4.719986e+04</td>\n",
       "      <td>862.59</td>\n",
       "      <td>2492.0950</td>\n",
       "      <td>31718.635</td>\n",
       "      <td>9.034317e+04</td>\n",
       "      <td>169828.77</td>\n",
       "    </tr>\n",
       "    <tr>\n",
       "      <th>la</th>\n",
       "      <td>338.0</td>\n",
       "      <td>1.351927e+05</td>\n",
       "      <td>1.398363e+05</td>\n",
       "      <td>515.01</td>\n",
       "      <td>3318.6625</td>\n",
       "      <td>78888.775</td>\n",
       "      <td>2.588600e+05</td>\n",
       "      <td>633235.06</td>\n",
       "    </tr>\n",
       "    <tr>\n",
       "      <th>ma</th>\n",
       "      <td>338.0</td>\n",
       "      <td>2.877929e+05</td>\n",
       "      <td>2.844129e+05</td>\n",
       "      <td>1948.28</td>\n",
       "      <td>12547.8250</td>\n",
       "      <td>194500.520</td>\n",
       "      <td>5.536088e+05</td>\n",
       "      <td>999783.13</td>\n",
       "    </tr>\n",
       "    <tr>\n",
       "      <th>md</th>\n",
       "      <td>338.0</td>\n",
       "      <td>3.985619e+05</td>\n",
       "      <td>3.872537e+05</td>\n",
       "      <td>6884.09</td>\n",
       "      <td>18552.2575</td>\n",
       "      <td>302414.665</td>\n",
       "      <td>7.497620e+05</td>\n",
       "      <td>1225103.27</td>\n",
       "    </tr>\n",
       "    <tr>\n",
       "      <th>mi</th>\n",
       "      <td>676.0</td>\n",
       "      <td>1.385121e+05</td>\n",
       "      <td>1.568870e+05</td>\n",
       "      <td>683.76</td>\n",
       "      <td>7787.0800</td>\n",
       "      <td>75055.070</td>\n",
       "      <td>2.551118e+05</td>\n",
       "      <td>880540.45</td>\n",
       "    </tr>\n",
       "    <tr>\n",
       "      <th>mo</th>\n",
       "      <td>338.0</td>\n",
       "      <td>9.489004e+04</td>\n",
       "      <td>9.482813e+04</td>\n",
       "      <td>2261.62</td>\n",
       "      <td>6002.1850</td>\n",
       "      <td>57518.605</td>\n",
       "      <td>1.742757e+05</td>\n",
       "      <td>348135.49</td>\n",
       "    </tr>\n",
       "    <tr>\n",
       "      <th>nc</th>\n",
       "      <td>676.0</td>\n",
       "      <td>1.239028e+05</td>\n",
       "      <td>1.237930e+05</td>\n",
       "      <td>2390.22</td>\n",
       "      <td>8046.2300</td>\n",
       "      <td>89865.635</td>\n",
       "      <td>2.291335e+05</td>\n",
       "      <td>552900.21</td>\n",
       "    </tr>\n",
       "    <tr>\n",
       "      <th>nm</th>\n",
       "      <td>335.0</td>\n",
       "      <td>4.314085e+05</td>\n",
       "      <td>4.300246e+05</td>\n",
       "      <td>4582.72</td>\n",
       "      <td>14098.5000</td>\n",
       "      <td>474480.970</td>\n",
       "      <td>8.287615e+05</td>\n",
       "      <td>1637554.42</td>\n",
       "    </tr>\n",
       "    <tr>\n",
       "      <th>nv</th>\n",
       "      <td>338.0</td>\n",
       "      <td>1.608784e+05</td>\n",
       "      <td>1.589359e+05</td>\n",
       "      <td>2988.40</td>\n",
       "      <td>8869.6350</td>\n",
       "      <td>93540.070</td>\n",
       "      <td>3.114956e+05</td>\n",
       "      <td>680234.93</td>\n",
       "    </tr>\n",
       "    <tr>\n",
       "      <th>ny</th>\n",
       "      <td>1352.0</td>\n",
       "      <td>2.150200e+05</td>\n",
       "      <td>4.568346e+05</td>\n",
       "      <td>379.82</td>\n",
       "      <td>3459.6450</td>\n",
       "      <td>51759.415</td>\n",
       "      <td>1.112043e+05</td>\n",
       "      <td>2959541.38</td>\n",
       "    </tr>\n",
       "    <tr>\n",
       "      <th>oh</th>\n",
       "      <td>676.0</td>\n",
       "      <td>1.102298e+05</td>\n",
       "      <td>1.079974e+05</td>\n",
       "      <td>2002.61</td>\n",
       "      <td>10485.3100</td>\n",
       "      <td>80646.320</td>\n",
       "      <td>2.064376e+05</td>\n",
       "      <td>538518.77</td>\n",
       "    </tr>\n",
       "    <tr>\n",
       "      <th>or</th>\n",
       "      <td>338.0</td>\n",
       "      <td>3.270775e+05</td>\n",
       "      <td>3.191514e+05</td>\n",
       "      <td>7136.88</td>\n",
       "      <td>28803.6850</td>\n",
       "      <td>216181.630</td>\n",
       "      <td>6.053382e+05</td>\n",
       "      <td>1189151.17</td>\n",
       "    </tr>\n",
       "    <tr>\n",
       "      <th>pa</th>\n",
       "      <td>1014.0</td>\n",
       "      <td>1.306252e+05</td>\n",
       "      <td>1.552142e+05</td>\n",
       "      <td>679.51</td>\n",
       "      <td>7785.3750</td>\n",
       "      <td>54868.205</td>\n",
       "      <td>2.380341e+05</td>\n",
       "      <td>819224.30</td>\n",
       "    </tr>\n",
       "    <tr>\n",
       "      <th>sc</th>\n",
       "      <td>338.0</td>\n",
       "      <td>1.797449e+05</td>\n",
       "      <td>1.805658e+05</td>\n",
       "      <td>2304.30</td>\n",
       "      <td>8546.1375</td>\n",
       "      <td>115384.280</td>\n",
       "      <td>3.402385e+05</td>\n",
       "      <td>706098.15</td>\n",
       "    </tr>\n",
       "    <tr>\n",
       "      <th>tn</th>\n",
       "      <td>338.0</td>\n",
       "      <td>1.053612e+05</td>\n",
       "      <td>1.046243e+05</td>\n",
       "      <td>2892.29</td>\n",
       "      <td>7149.0300</td>\n",
       "      <td>75184.450</td>\n",
       "      <td>1.887475e+05</td>\n",
       "      <td>391780.25</td>\n",
       "    </tr>\n",
       "    <tr>\n",
       "      <th>tx</th>\n",
       "      <td>676.0</td>\n",
       "      <td>6.088567e+05</td>\n",
       "      <td>6.086137e+05</td>\n",
       "      <td>6568.67</td>\n",
       "      <td>20369.9675</td>\n",
       "      <td>383266.390</td>\n",
       "      <td>1.163546e+06</td>\n",
       "      <td>2381742.59</td>\n",
       "    </tr>\n",
       "    <tr>\n",
       "      <th>va</th>\n",
       "      <td>676.0</td>\n",
       "      <td>9.951607e+04</td>\n",
       "      <td>1.018214e+05</td>\n",
       "      <td>2729.66</td>\n",
       "      <td>8070.6400</td>\n",
       "      <td>49184.410</td>\n",
       "      <td>1.772195e+05</td>\n",
       "      <td>469093.71</td>\n",
       "    </tr>\n",
       "    <tr>\n",
       "      <th>wa</th>\n",
       "      <td>676.0</td>\n",
       "      <td>1.845850e+05</td>\n",
       "      <td>2.569718e+05</td>\n",
       "      <td>1043.41</td>\n",
       "      <td>12335.6000</td>\n",
       "      <td>64129.130</td>\n",
       "      <td>2.049447e+05</td>\n",
       "      <td>1093144.23</td>\n",
       "    </tr>\n",
       "  </tbody>\n",
       "</table>\n",
       "</div>"
      ],
      "text/plain": [
       "         count          mean           std      min         25%         50%  \\\n",
       "region                                                                        \n",
       "az       338.0  5.788264e+05  5.974847e+05  4881.79  11449.3575  339075.580   \n",
       "ca      1690.0  1.087375e+06  1.867886e+06  3562.52  22347.4175  251731.110   \n",
       "co       338.0  4.109542e+05  3.940824e+05  6554.93  27517.2050  329377.845   \n",
       "ct       338.0  1.499128e+05  1.474348e+05  1494.63   8060.3800  111484.915   \n",
       "fl      1352.0  1.857459e+05  2.258621e+05    84.56   3721.9050   53105.295   \n",
       "ga       338.0  2.621453e+05  2.631071e+05  3047.38  10989.8975  182673.440   \n",
       "id       338.0  4.264257e+04  4.247940e+04   562.64   2212.7675   28988.585   \n",
       "il       338.0  3.955690e+05  3.846002e+05  9910.84  29956.2450  231780.020   \n",
       "in       338.0  8.953666e+04  8.911021e+04   964.25   3746.8175   60553.145   \n",
       "ky       338.0  4.762427e+04  4.719986e+04   862.59   2492.0950   31718.635   \n",
       "la       338.0  1.351927e+05  1.398363e+05   515.01   3318.6625   78888.775   \n",
       "ma       338.0  2.877929e+05  2.844129e+05  1948.28  12547.8250  194500.520   \n",
       "md       338.0  3.985619e+05  3.872537e+05  6884.09  18552.2575  302414.665   \n",
       "mi       676.0  1.385121e+05  1.568870e+05   683.76   7787.0800   75055.070   \n",
       "mo       338.0  9.489004e+04  9.482813e+04  2261.62   6002.1850   57518.605   \n",
       "nc       676.0  1.239028e+05  1.237930e+05  2390.22   8046.2300   89865.635   \n",
       "nm       335.0  4.314085e+05  4.300246e+05  4582.72  14098.5000  474480.970   \n",
       "nv       338.0  1.608784e+05  1.589359e+05  2988.40   8869.6350   93540.070   \n",
       "ny      1352.0  2.150200e+05  4.568346e+05   379.82   3459.6450   51759.415   \n",
       "oh       676.0  1.102298e+05  1.079974e+05  2002.61  10485.3100   80646.320   \n",
       "or       338.0  3.270775e+05  3.191514e+05  7136.88  28803.6850  216181.630   \n",
       "pa      1014.0  1.306252e+05  1.552142e+05   679.51   7785.3750   54868.205   \n",
       "sc       338.0  1.797449e+05  1.805658e+05  2304.30   8546.1375  115384.280   \n",
       "tn       338.0  1.053612e+05  1.046243e+05  2892.29   7149.0300   75184.450   \n",
       "tx       676.0  6.088567e+05  6.086137e+05  6568.67  20369.9675  383266.390   \n",
       "va       676.0  9.951607e+04  1.018214e+05  2729.66   8070.6400   49184.410   \n",
       "wa       676.0  1.845850e+05  2.569718e+05  1043.41  12335.6000   64129.130   \n",
       "\n",
       "                 75%          max  \n",
       "region                             \n",
       "az      1.138581e+06   2200550.27  \n",
       "ca      7.659474e+05  11213596.29  \n",
       "co      7.663101e+05   1381528.74  \n",
       "ct      2.811244e+05    522565.33  \n",
       "fl      3.355664e+05   1310671.51  \n",
       "ga      4.907090e+05    957792.07  \n",
       "id      8.132399e+04    136377.55  \n",
       "il      7.639302e+05   1802646.35  \n",
       "in      1.680288e+05    335442.41  \n",
       "ky      9.034317e+04    169828.77  \n",
       "la      2.588600e+05    633235.06  \n",
       "ma      5.536088e+05    999783.13  \n",
       "md      7.497620e+05   1225103.27  \n",
       "mi      2.551118e+05    880540.45  \n",
       "mo      1.742757e+05    348135.49  \n",
       "nc      2.291335e+05    552900.21  \n",
       "nm      8.287615e+05   1637554.42  \n",
       "nv      3.114956e+05    680234.93  \n",
       "ny      1.112043e+05   2959541.38  \n",
       "oh      2.064376e+05    538518.77  \n",
       "or      6.053382e+05   1189151.17  \n",
       "pa      2.380341e+05    819224.30  \n",
       "sc      3.402385e+05    706098.15  \n",
       "tn      1.887475e+05    391780.25  \n",
       "tx      1.163546e+06   2381742.59  \n",
       "va      1.772195e+05    469093.71  \n",
       "wa      2.049447e+05   1093144.23  "
      ]
     },
     "execution_count": 95,
     "metadata": {},
     "output_type": "execute_result"
    }
   ],
   "source": [
    "avocado.groupby('region')['Total Volume'].describe()"
   ]
  },
  {
   "cell_type": "markdown",
   "metadata": {},
   "source": [
    "# Graphs"
   ]
  },
  {
   "cell_type": "code",
   "execution_count": 113,
   "metadata": {},
   "outputs": [
    {
     "data": {
      "text/html": [
       "<div>\n",
       "<style scoped>\n",
       "    .dataframe tbody tr th:only-of-type {\n",
       "        vertical-align: middle;\n",
       "    }\n",
       "\n",
       "    .dataframe tbody tr th {\n",
       "        vertical-align: top;\n",
       "    }\n",
       "\n",
       "    .dataframe thead th {\n",
       "        text-align: right;\n",
       "    }\n",
       "</style>\n",
       "<table border=\"1\" class=\"dataframe\">\n",
       "  <thead>\n",
       "    <tr style=\"text-align: right;\">\n",
       "      <th></th>\n",
       "      <th>AveragePrice</th>\n",
       "      <th>Total Volume</th>\n",
       "      <th>small</th>\n",
       "      <th>medium</th>\n",
       "      <th>large</th>\n",
       "      <th>type</th>\n",
       "      <th>year</th>\n",
       "      <th>region</th>\n",
       "    </tr>\n",
       "    <tr>\n",
       "      <th>Date</th>\n",
       "      <th></th>\n",
       "      <th></th>\n",
       "      <th></th>\n",
       "      <th></th>\n",
       "      <th></th>\n",
       "      <th></th>\n",
       "      <th></th>\n",
       "      <th></th>\n",
       "    </tr>\n",
       "  </thead>\n",
       "  <tbody>\n",
       "    <tr>\n",
       "      <th>2015-12-27</th>\n",
       "      <td>1.33</td>\n",
       "      <td>64236.62</td>\n",
       "      <td>1036.74</td>\n",
       "      <td>54454.85</td>\n",
       "      <td>48.16</td>\n",
       "      <td>conventional</td>\n",
       "      <td>2015</td>\n",
       "      <td>ny</td>\n",
       "    </tr>\n",
       "    <tr>\n",
       "      <th>2015-12-20</th>\n",
       "      <td>1.35</td>\n",
       "      <td>54876.98</td>\n",
       "      <td>674.28</td>\n",
       "      <td>44638.81</td>\n",
       "      <td>58.33</td>\n",
       "      <td>conventional</td>\n",
       "      <td>2015</td>\n",
       "      <td>ny</td>\n",
       "    </tr>\n",
       "    <tr>\n",
       "      <th>2015-12-13</th>\n",
       "      <td>0.93</td>\n",
       "      <td>118220.22</td>\n",
       "      <td>794.70</td>\n",
       "      <td>109149.67</td>\n",
       "      <td>130.50</td>\n",
       "      <td>conventional</td>\n",
       "      <td>2015</td>\n",
       "      <td>ny</td>\n",
       "    </tr>\n",
       "    <tr>\n",
       "      <th>2015-12-06</th>\n",
       "      <td>1.08</td>\n",
       "      <td>78992.15</td>\n",
       "      <td>1132.00</td>\n",
       "      <td>71976.41</td>\n",
       "      <td>72.58</td>\n",
       "      <td>conventional</td>\n",
       "      <td>2015</td>\n",
       "      <td>ny</td>\n",
       "    </tr>\n",
       "    <tr>\n",
       "      <th>2015-11-29</th>\n",
       "      <td>1.28</td>\n",
       "      <td>51039.60</td>\n",
       "      <td>941.48</td>\n",
       "      <td>43838.39</td>\n",
       "      <td>75.78</td>\n",
       "      <td>conventional</td>\n",
       "      <td>2015</td>\n",
       "      <td>ny</td>\n",
       "    </tr>\n",
       "  </tbody>\n",
       "</table>\n",
       "</div>"
      ],
      "text/plain": [
       "            AveragePrice  Total Volume    small     medium   large  \\\n",
       "Date                                                                 \n",
       "2015-12-27          1.33      64236.62  1036.74   54454.85   48.16   \n",
       "2015-12-20          1.35      54876.98   674.28   44638.81   58.33   \n",
       "2015-12-13          0.93     118220.22   794.70  109149.67  130.50   \n",
       "2015-12-06          1.08      78992.15  1132.00   71976.41   72.58   \n",
       "2015-11-29          1.28      51039.60   941.48   43838.39   75.78   \n",
       "\n",
       "                    type  year region  \n",
       "Date                                   \n",
       "2015-12-27  conventional  2015     ny  \n",
       "2015-12-20  conventional  2015     ny  \n",
       "2015-12-13  conventional  2015     ny  \n",
       "2015-12-06  conventional  2015     ny  \n",
       "2015-11-29  conventional  2015     ny  "
      ]
     },
     "execution_count": 113,
     "metadata": {},
     "output_type": "execute_result"
    }
   ],
   "source": [
    "avocado.head()"
   ]
  },
  {
   "cell_type": "code",
   "execution_count": null,
   "metadata": {},
   "outputs": [],
   "source": []
  },
  {
   "cell_type": "markdown",
   "metadata": {},
   "source": [
    "# creating df for different types of avocados"
   ]
  },
  {
   "cell_type": "code",
   "execution_count": 96,
   "metadata": {},
   "outputs": [],
   "source": [
    "conventional = avocado[avocado['type'] == 'conventional']"
   ]
  },
  {
   "cell_type": "code",
   "execution_count": 97,
   "metadata": {},
   "outputs": [],
   "source": [
    "organic = avocado[avocado['type'] == 'organic']"
   ]
  },
  {
   "cell_type": "code",
   "execution_count": 98,
   "metadata": {},
   "outputs": [
    {
     "data": {
      "text/html": [
       "<div>\n",
       "<style scoped>\n",
       "    .dataframe tbody tr th:only-of-type {\n",
       "        vertical-align: middle;\n",
       "    }\n",
       "\n",
       "    .dataframe tbody tr th {\n",
       "        vertical-align: top;\n",
       "    }\n",
       "\n",
       "    .dataframe thead th {\n",
       "        text-align: right;\n",
       "    }\n",
       "</style>\n",
       "<table border=\"1\" class=\"dataframe\">\n",
       "  <thead>\n",
       "    <tr style=\"text-align: right;\">\n",
       "      <th></th>\n",
       "      <th>AveragePrice</th>\n",
       "      <th>Total Volume</th>\n",
       "      <th>small</th>\n",
       "      <th>medium</th>\n",
       "      <th>large</th>\n",
       "      <th>type</th>\n",
       "      <th>year</th>\n",
       "      <th>region</th>\n",
       "    </tr>\n",
       "    <tr>\n",
       "      <th>Date</th>\n",
       "      <th></th>\n",
       "      <th></th>\n",
       "      <th></th>\n",
       "      <th></th>\n",
       "      <th></th>\n",
       "      <th></th>\n",
       "      <th></th>\n",
       "      <th></th>\n",
       "    </tr>\n",
       "  </thead>\n",
       "  <tbody>\n",
       "    <tr>\n",
       "      <th>2015-12-27</th>\n",
       "      <td>1.83</td>\n",
       "      <td>989.55</td>\n",
       "      <td>8.16</td>\n",
       "      <td>88.59</td>\n",
       "      <td>0.0</td>\n",
       "      <td>organic</td>\n",
       "      <td>2015</td>\n",
       "      <td>ny</td>\n",
       "    </tr>\n",
       "    <tr>\n",
       "      <th>2015-12-20</th>\n",
       "      <td>1.89</td>\n",
       "      <td>1163.03</td>\n",
       "      <td>30.24</td>\n",
       "      <td>172.14</td>\n",
       "      <td>0.0</td>\n",
       "      <td>organic</td>\n",
       "      <td>2015</td>\n",
       "      <td>ny</td>\n",
       "    </tr>\n",
       "    <tr>\n",
       "      <th>2015-12-13</th>\n",
       "      <td>1.85</td>\n",
       "      <td>995.96</td>\n",
       "      <td>10.44</td>\n",
       "      <td>178.70</td>\n",
       "      <td>0.0</td>\n",
       "      <td>organic</td>\n",
       "      <td>2015</td>\n",
       "      <td>ny</td>\n",
       "    </tr>\n",
       "    <tr>\n",
       "      <th>2015-12-06</th>\n",
       "      <td>1.84</td>\n",
       "      <td>1158.42</td>\n",
       "      <td>90.29</td>\n",
       "      <td>104.18</td>\n",
       "      <td>0.0</td>\n",
       "      <td>organic</td>\n",
       "      <td>2015</td>\n",
       "      <td>ny</td>\n",
       "    </tr>\n",
       "    <tr>\n",
       "      <th>2015-11-29</th>\n",
       "      <td>1.94</td>\n",
       "      <td>831.69</td>\n",
       "      <td>0.00</td>\n",
       "      <td>94.73</td>\n",
       "      <td>0.0</td>\n",
       "      <td>organic</td>\n",
       "      <td>2015</td>\n",
       "      <td>ny</td>\n",
       "    </tr>\n",
       "  </tbody>\n",
       "</table>\n",
       "</div>"
      ],
      "text/plain": [
       "            AveragePrice  Total Volume  small  medium  large     type  year  \\\n",
       "Date                                                                          \n",
       "2015-12-27          1.83        989.55   8.16   88.59    0.0  organic  2015   \n",
       "2015-12-20          1.89       1163.03  30.24  172.14    0.0  organic  2015   \n",
       "2015-12-13          1.85        995.96  10.44  178.70    0.0  organic  2015   \n",
       "2015-12-06          1.84       1158.42  90.29  104.18    0.0  organic  2015   \n",
       "2015-11-29          1.94        831.69   0.00   94.73    0.0  organic  2015   \n",
       "\n",
       "           region  \n",
       "Date               \n",
       "2015-12-27     ny  \n",
       "2015-12-20     ny  \n",
       "2015-12-13     ny  \n",
       "2015-12-06     ny  \n",
       "2015-11-29     ny  "
      ]
     },
     "execution_count": 98,
     "metadata": {},
     "output_type": "execute_result"
    }
   ],
   "source": [
    "organic.head()"
   ]
  },
  {
   "cell_type": "code",
   "execution_count": 99,
   "metadata": {},
   "outputs": [
    {
     "data": {
      "text/html": [
       "<div>\n",
       "<style scoped>\n",
       "    .dataframe tbody tr th:only-of-type {\n",
       "        vertical-align: middle;\n",
       "    }\n",
       "\n",
       "    .dataframe tbody tr th {\n",
       "        vertical-align: top;\n",
       "    }\n",
       "\n",
       "    .dataframe thead th {\n",
       "        text-align: right;\n",
       "    }\n",
       "</style>\n",
       "<table border=\"1\" class=\"dataframe\">\n",
       "  <thead>\n",
       "    <tr style=\"text-align: right;\">\n",
       "      <th></th>\n",
       "      <th>AveragePrice</th>\n",
       "      <th>Total Volume</th>\n",
       "      <th>small</th>\n",
       "      <th>medium</th>\n",
       "      <th>large</th>\n",
       "      <th>type</th>\n",
       "      <th>year</th>\n",
       "      <th>region</th>\n",
       "    </tr>\n",
       "    <tr>\n",
       "      <th>Date</th>\n",
       "      <th></th>\n",
       "      <th></th>\n",
       "      <th></th>\n",
       "      <th></th>\n",
       "      <th></th>\n",
       "      <th></th>\n",
       "      <th></th>\n",
       "      <th></th>\n",
       "    </tr>\n",
       "  </thead>\n",
       "  <tbody>\n",
       "    <tr>\n",
       "      <th>2015-12-27</th>\n",
       "      <td>1.33</td>\n",
       "      <td>64236.62</td>\n",
       "      <td>1036.74</td>\n",
       "      <td>54454.85</td>\n",
       "      <td>48.16</td>\n",
       "      <td>conventional</td>\n",
       "      <td>2015</td>\n",
       "      <td>ny</td>\n",
       "    </tr>\n",
       "    <tr>\n",
       "      <th>2015-12-20</th>\n",
       "      <td>1.35</td>\n",
       "      <td>54876.98</td>\n",
       "      <td>674.28</td>\n",
       "      <td>44638.81</td>\n",
       "      <td>58.33</td>\n",
       "      <td>conventional</td>\n",
       "      <td>2015</td>\n",
       "      <td>ny</td>\n",
       "    </tr>\n",
       "    <tr>\n",
       "      <th>2015-12-13</th>\n",
       "      <td>0.93</td>\n",
       "      <td>118220.22</td>\n",
       "      <td>794.70</td>\n",
       "      <td>109149.67</td>\n",
       "      <td>130.50</td>\n",
       "      <td>conventional</td>\n",
       "      <td>2015</td>\n",
       "      <td>ny</td>\n",
       "    </tr>\n",
       "    <tr>\n",
       "      <th>2015-12-06</th>\n",
       "      <td>1.08</td>\n",
       "      <td>78992.15</td>\n",
       "      <td>1132.00</td>\n",
       "      <td>71976.41</td>\n",
       "      <td>72.58</td>\n",
       "      <td>conventional</td>\n",
       "      <td>2015</td>\n",
       "      <td>ny</td>\n",
       "    </tr>\n",
       "    <tr>\n",
       "      <th>2015-11-29</th>\n",
       "      <td>1.28</td>\n",
       "      <td>51039.60</td>\n",
       "      <td>941.48</td>\n",
       "      <td>43838.39</td>\n",
       "      <td>75.78</td>\n",
       "      <td>conventional</td>\n",
       "      <td>2015</td>\n",
       "      <td>ny</td>\n",
       "    </tr>\n",
       "  </tbody>\n",
       "</table>\n",
       "</div>"
      ],
      "text/plain": [
       "            AveragePrice  Total Volume    small     medium   large  \\\n",
       "Date                                                                 \n",
       "2015-12-27          1.33      64236.62  1036.74   54454.85   48.16   \n",
       "2015-12-20          1.35      54876.98   674.28   44638.81   58.33   \n",
       "2015-12-13          0.93     118220.22   794.70  109149.67  130.50   \n",
       "2015-12-06          1.08      78992.15  1132.00   71976.41   72.58   \n",
       "2015-11-29          1.28      51039.60   941.48   43838.39   75.78   \n",
       "\n",
       "                    type  year region  \n",
       "Date                                   \n",
       "2015-12-27  conventional  2015     ny  \n",
       "2015-12-20  conventional  2015     ny  \n",
       "2015-12-13  conventional  2015     ny  \n",
       "2015-12-06  conventional  2015     ny  \n",
       "2015-11-29  conventional  2015     ny  "
      ]
     },
     "execution_count": 99,
     "metadata": {},
     "output_type": "execute_result"
    }
   ],
   "source": [
    "conventional.head()"
   ]
  },
  {
   "cell_type": "markdown",
   "metadata": {},
   "source": [
    "        AvgPrice\n",
    "Date 1     1\n",
    "Date 1     2\n",
    "Date 1     3\n",
    "Date 2     .\n",
    "Date 2     .\n",
    "Date 2     .\n",
    "->\n",
    "\n",
    "Date 1     2\n",
    "Date 2     ."
   ]
  },
  {
   "cell_type": "code",
   "execution_count": 100,
   "metadata": {
    "scrolled": true
   },
   "outputs": [
    {
     "data": {
      "text/plain": [
       "<matplotlib.axes._subplots.AxesSubplot at 0x1a31a02ad0>"
      ]
     },
     "execution_count": 100,
     "metadata": {},
     "output_type": "execute_result"
    },
    {
     "data": {
      "image/png": "[encoded data removed]",
      "text/plain": [
       "<Figure size 432x288 with 1 Axes>"
      ]
     },
     "metadata": {
      "needs_background": "light"
     },
     "output_type": "display_data"
    }
   ],
   "source": [
    "organic.groupby(['Date'])['AveragePrice'].mean().plot()"
   ]
  },
  {
   "cell_type": "code",
   "execution_count": 101,
   "metadata": {},
   "outputs": [
    {
     "data": {
      "text/plain": [
       "((1.6156812770562772, 1.7120919786096245),\n",
       " (0.012582104594083612, 0.03212652994112245))"
      ]
     },
     "execution_count": 101,
     "metadata": {},
     "output_type": "execute_result"
    }
   ],
   "source": [
    "organic_by_dates = organic.groupby(['Date'])['AveragePrice'].mean()\n",
    "split = int(len(organic_by_dates)/2)\n",
    "fhalf,thalf = organic_by_dates[:split],organic_by_dates[split:]\n",
    "(fhalf.mean(), thalf.mean()), (fhalf.std()**2,thalf.std()**2)"
   ]
  },
  {
   "cell_type": "code",
   "execution_count": 102,
   "metadata": {},
   "outputs": [
    {
     "data": {
      "text/plain": [
       "((0.000716631924354916, -0.0010267395194584604),\n",
       " (0.0011597468656518782, 0.0018036451545079381))"
      ]
     },
     "execution_count": 102,
     "metadata": {},
     "output_type": "execute_result"
    }
   ],
   "source": [
    "organic_by_dates = (np.log(organic.groupby(['Date'])['AveragePrice'].mean())).diff(periods = 1)[1:]\n",
    "split = int(len(organic_by_dates)/2)\n",
    "fhalf,thalf = organic_by_dates[:split],organic_by_dates[split:]\n",
    "(fhalf.mean(), thalf.mean()), (fhalf.std()**2,thalf.std()**2)"
   ]
  },
  {
   "cell_type": "code",
   "execution_count": 103,
   "metadata": {},
   "outputs": [],
   "source": [
    "import scipy.stats as stats"
   ]
  },
  {
   "cell_type": "code",
   "execution_count": 104,
   "metadata": {},
   "outputs": [
    {
     "data": {
      "text/plain": [
       "Ttest_indResult(statistic=0.2935181878825282, pvalue=0.7694927381890805)"
      ]
     },
     "execution_count": 104,
     "metadata": {},
     "output_type": "execute_result"
    }
   ],
   "source": [
    "#h0 equal means, h1: no equal means\n",
    "stats.ttest_ind(fhalf,thalf)"
   ]
  },
  {
   "cell_type": "code",
   "execution_count": 109,
   "metadata": {
    "scrolled": true
   },
   "outputs": [
    {
     "data": {
      "text/plain": [
       "<matplotlib.legend.Legend at 0x1a2d469b90>"
      ]
     },
     "execution_count": 109,
     "metadata": {},
     "output_type": "execute_result"
    },
    {
     "data": {
      "image/png": "[encoded data removed]",
      "text/plain": [
       "<Figure size 432x288 with 1 Axes>"
      ]
     },
     "metadata": {
      "needs_background": "light"
     },
     "output_type": "display_data"
    }
   ],
   "source": [
    "conventional.groupby('region')['AveragePrice'].plot()\n",
    "plt.legend()"
   ]
  },
  {
   "cell_type": "markdown",
   "metadata": {},
   "source": [
    "# dickey fuller test"
   ]
  },
  {
   "cell_type": "code",
   "execution_count": null,
   "metadata": {},
   "outputs": [],
   "source": [
    "from statsmodels.tsa.stattools import adfuller"
   ]
  },
  {
   "cell_type": "code",
   "execution_count": null,
   "metadata": {},
   "outputs": [],
   "source": [
    "grrt = np.log(av['AveragePrice'])"
   ]
  },
  {
   "cell_type": "code",
   "execution_count": null,
   "metadata": {},
   "outputs": [],
   "source": [
    "# create a differenced series\n",
    "def difference(dataset, interval=1):\n",
    "    diff = []\n",
    "    for i in range(interval, len(dataset)):\n",
    "        value = dataset[i] - dataset[i - interval]\n",
    "        diff.append(value)\n",
    "    return Series(diff)"
   ]
  },
  {
   "cell_type": "code",
   "execution_count": null,
   "metadata": {},
   "outputs": [],
   "source": [
    "avocado['AveragePrice'].diff(periods=1)"
   ]
  },
  {
   "cell_type": "code",
   "execution_count": null,
   "metadata": {},
   "outputs": [],
   "source": [
    "difference(av['AveragePrice'])"
   ]
  },
  {
   "cell_type": "code",
   "execution_count": null,
   "metadata": {},
   "outputs": [],
   "source": [
    "test = adfuller((np.log(avocado['AveragePrice']).diff(periods=1))[1:])\n",
    "# test = adfuller(diff['Differenced Observations'][1:-1])\n",
    "dfoutput = pd.Series(test[0:4], index=['Test Statistic','p-value','#Lags Used','Number of Observations Used'])\n",
    "print(dfoutput)"
   ]
  },
  {
   "cell_type": "code",
   "execution_count": 45,
   "metadata": {},
   "outputs": [
    {
     "name": "stdout",
     "output_type": "stream",
     "text": [
      "Test Statistic                  -3.266344\n",
      "p-value                          0.016452\n",
      "#Lags Used                      11.000000\n",
      "Number of Observations Used    157.000000\n",
      "dtype: float64\n"
     ]
    }
   ],
   "source": [
    "#conventional only\n",
    "test2 = adfuller(organic.groupby(['Date'])['AveragePrice'].mean())\n",
    "dfoutput = pd.Series(test2[0:4], index=['Test Statistic','p-value','#Lags Used','Number of Observations Used'])\n",
    "print(dfoutput)"
   ]
  },
  {
   "cell_type": "code",
   "execution_count": 46,
   "metadata": {},
   "outputs": [
    {
     "name": "stdout",
     "output_type": "stream",
     "text": [
      "Test Statistic                  -3.382259\n",
      "p-value                          0.011579\n",
      "#Lags Used                      11.000000\n",
      "Number of Observations Used    157.000000\n",
      "dtype: float64\n"
     ]
    }
   ],
   "source": [
    "#conventional only\n",
    "test2 = adfuller(np.log(organic.groupby(['Date'])['AveragePrice'].mean()))\n",
    "dfoutput = pd.Series(test2[0:4], index=['Test Statistic','p-value','#Lags Used','Number of Observations Used'])\n",
    "print(dfoutput)"
   ]
  },
  {
   "cell_type": "code",
   "execution_count": 68,
   "metadata": {},
   "outputs": [],
   "source": [
    "#conventional prices by date\n",
    "conventional_by_date = conventional.groupby(['Date'])['AveragePrice'].mean()\n",
    "conventional_final = (np.log(conventional_by_date)).diff(periods = 1)[1:]\n",
    "#organic prices by date\n",
    "organic_by_date = organic.groupby(['Date'])['AveragePrice'].mean()\n",
    "organic_final = (np.log(organic_by_date)).diff(periods = 1)[1:]"
   ]
  },
  {
   "cell_type": "markdown",
   "metadata": {},
   "source": [
    "# Modeling"
   ]
  },
  {
   "cell_type": "code",
   "execution_count": 66,
   "metadata": {},
   "outputs": [],
   "source": [
    "#imports\n",
    "from statsmodels.tsa.stattools import adfuller\n",
    "from statsmodels.graphics.tsaplots import plot_pacf\n",
    "from statsmodels.graphics.tsaplots import plot_acf\n",
    "from statsmodels.tsa.arima_model import ARIMA\n",
    "from statsmodels.tsa.arima_model import ARMA"
   ]
  },
  {
   "cell_type": "markdown",
   "metadata": {},
   "source": [
    "**Conventional Plots**"
   ]
  },
  {
   "cell_type": "code",
   "execution_count": 82,
   "metadata": {},
   "outputs": [
    {
     "data": {
      "image/png": "[encoded data removed]",
      "text/plain": [
       "<Figure size 432x288 with 1 Axes>"
      ]
     },
     "metadata": {
      "needs_background": "light"
     },
     "output_type": "display_data"
    },
    {
     "data": {
      "image/png": "[encoded data removed]",
      "text/plain": [
       "<Figure size 432x288 with 1 Axes>"
      ]
     },
     "metadata": {
      "needs_background": "light"
     },
     "output_type": "display_data"
    }
   ],
   "source": [
    "plot_acf(conventional_final)\n",
    "plot_pacf(conventional_final)\n",
    "plt.show()"
   ]
  },
  {
   "cell_type": "markdown",
   "metadata": {},
   "source": [
    "**Organic Plots**"
   ]
  },
  {
   "cell_type": "code",
   "execution_count": 83,
   "metadata": {},
   "outputs": [
    {
     "data": {
      "image/png": "[encoded data removed]",
      "text/plain": [
       "<Figure size 432x288 with 1 Axes>"
      ]
     },
     "metadata": {
      "needs_background": "light"
     },
     "output_type": "display_data"
    },
    {
     "data": {
      "image/png": "[encoded data removed]",
      "text/plain": [
       "<Figure size 432x288 with 1 Axes>"
      ]
     },
     "metadata": {
      "needs_background": "light"
     },
     "output_type": "display_data"
    }
   ],
   "source": [
    "plot_acf(organic_final)\n",
    "plot_pacf(organic_final)\n",
    "plt.show()"
   ]
  },
  {
   "cell_type": "code",
   "execution_count": null,
   "metadata": {},
   "outputs": [],
   "source": []
  }
 ],
 "metadata": {
  "kernelspec": {
   "display_name": "Python 3",
   "language": "python",
   "name": "python3"
  },
  "language_info": {
   "codemirror_mode": {
    "name": "ipython",
    "version": 3
   },
   "file_extension": ".py",
   "mimetype": "text/x-python",
   "name": "python",
   "nbconvert_exporter": "python",
   "pygments_lexer": "ipython3",
   "version": "3.7.6"
  }
 },
 "nbformat": 4,
 "nbformat_minor": 2
}
